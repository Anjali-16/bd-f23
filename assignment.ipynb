{
 "cells": [
  {
   "cell_type": "markdown",
   "metadata": {},
   "source": [
    "### Meghanjali Chennupati (U30308400)\n",
    "In this assignment, you will use the Dev01 environment to demonstrate:\n",
    "\n",
    "Launch VSCode and start a terminal inside vscode\n",
    "\n",
    "Start the Cassandra Cluster the vscode terminal\n",
    "\n",
    "Create a Jupyter Lab Notebook (in vscode) and use Python to accomplish the following (steps 4 through 9):\n",
    "\n",
    "Connect to the Cassandra Database\n",
    "\n",
    "Create a keyspace called bd23\n",
    "\n",
    "Create a table in this keyspace that will be used to store inventory information. This will include the fields, SKU (which is shown for stock keeping unit), name (short name for the product), description (longer description of the product), and warehouse_num (the warehouse number where the product is stored. NOTE: You must set the appropriate PRIMARY KEY configuration to enable queries described in step #8 (below) to be performed.\n",
    "\n",
    "Populate several rows of data into your inventory table (create 5 or 6 rows, with at least two rows with a warehouse_num of 123.)\n",
    "\n",
    "Search for all products located at a given location (warehouse_num 123)"
   ]
  },
  {
   "cell_type": "markdown",
   "metadata": {},
   "source": [
    "###  Importing all the required packages"
   ]
  },
  {
   "cell_type": "code",
   "execution_count": 1,
   "metadata": {},
   "outputs": [],
   "source": [
    "import pandas as pd\n",
    "from cassandra.cluster import Cluster"
   ]
  },
  {
   "cell_type": "markdown",
   "metadata": {},
   "source": [
    "### Create a session connection to Cassandra cluster"
   ]
  },
  {
   "cell_type": "markdown",
   "metadata": {},
   "source": []
  },
  {
   "cell_type": "code",
   "execution_count": 2,
   "metadata": {},
   "outputs": [],
   "source": [
    "clstr = Cluster()\n",
    "session = clstr.connect()"
   ]
  },
  {
   "cell_type": "markdown",
   "metadata": {},
   "source": [
    "### Creating a keyspace called bd23"
   ]
  },
  {
   "cell_type": "code",
   "execution_count": 3,
   "metadata": {},
   "outputs": [
    {
     "data": {
      "text/plain": [
       "<cassandra.cluster.ResultSet at 0x7f86e344f460>"
      ]
     },
     "execution_count": 3,
     "metadata": {},
     "output_type": "execute_result"
    }
   ],
   "source": [
    "session.execute(\"CREATE KEYSPACE IF NOT EXISTS bd23 WITH REPLICATION = {'class':'SimpleStrategy', 'replication_factor':2}\")"
   ]
  },
  {
   "cell_type": "code",
   "execution_count": 4,
   "metadata": {},
   "outputs": [
    {
     "name": "stdout",
     "output_type": "stream",
     "text": [
      "bd23\n",
      "system\n",
      "system_auth\n",
      "system_distributed\n",
      "system_schema\n",
      "system_traces\n",
      "system_views\n",
      "system_virtual_schema\n",
      "w04python\n"
     ]
    }
   ],
   "source": [
    "rows = session.execute(\"desc keyspaces\")\n",
    "for row in rows:\n",
    "    print(f\"{row[0]}\")"
   ]
  },
  {
   "cell_type": "markdown",
   "metadata": {},
   "source": [
    "### Creating the table inventory using the keyspace bd23.\n",
    "\n",
    "###  As per question I created inventory table with the following columns SKU, name, description, warehouse_num.\n",
    "\n",
    "###  Here I am using the primary key as a sku\n",
    "\n",
    "### As mentioned for me to answer the 7th and 8th step to get the locations of warehouse number 123 then sku will be unique.\n"
   ]
  },
  {
   "cell_type": "code",
   "execution_count": 5,
   "metadata": {},
   "outputs": [
    {
     "data": {
      "text/plain": [
       "<cassandra.cluster.ResultSet at 0x7f86a8110310>"
      ]
     },
     "execution_count": 5,
     "metadata": {},
     "output_type": "execute_result"
    }
   ],
   "source": [
    "session.execute(\"\"\"\n",
    "CREATE TABLE IF NOT EXISTS bd23.inventory ( \n",
    "    SKU TEXT, \n",
    "    name TEXT, \n",
    "    description TEXT, \n",
    "    warehouse_num INT, \n",
    "    PRIMARY KEY (SKU)\n",
    ");\n",
    "\"\"\")\n"
   ]
  },
  {
   "cell_type": "markdown",
   "metadata": {},
   "source": [
    "### Load the data"
   ]
  },
  {
   "cell_type": "code",
   "execution_count": 7,
   "metadata": {},
   "outputs": [
    {
     "data": {
      "text/html": [
       "<div>\n",
       "<style scoped>\n",
       "    .dataframe tbody tr th:only-of-type {\n",
       "        vertical-align: middle;\n",
       "    }\n",
       "\n",
       "    .dataframe tbody tr th {\n",
       "        vertical-align: top;\n",
       "    }\n",
       "\n",
       "    .dataframe thead th {\n",
       "        text-align: right;\n",
       "    }\n",
       "</style>\n",
       "<table border=\"1\" class=\"dataframe\">\n",
       "  <thead>\n",
       "    <tr style=\"text-align: right;\">\n",
       "      <th></th>\n",
       "      <th>SKU</th>\n",
       "      <th>name</th>\n",
       "      <th>description</th>\n",
       "      <th>warehouse_num</th>\n",
       "      <th>Unnamed: 4</th>\n",
       "    </tr>\n",
       "  </thead>\n",
       "  <tbody>\n",
       "    <tr>\n",
       "      <th>0</th>\n",
       "      <td>'CK100'</td>\n",
       "      <td>'Prod1'</td>\n",
       "      <td>'desc1'</td>\n",
       "      <td>100</td>\n",
       "      <td>NaN</td>\n",
       "    </tr>\n",
       "    <tr>\n",
       "      <th>1</th>\n",
       "      <td>'CK101'</td>\n",
       "      <td>'Prod2'</td>\n",
       "      <td>'desc2'</td>\n",
       "      <td>100</td>\n",
       "      <td>NaN</td>\n",
       "    </tr>\n",
       "    <tr>\n",
       "      <th>2</th>\n",
       "      <td>'CK102'</td>\n",
       "      <td>'Prod3'</td>\n",
       "      <td>'desc3'</td>\n",
       "      <td>101</td>\n",
       "      <td>NaN</td>\n",
       "    </tr>\n",
       "    <tr>\n",
       "      <th>3</th>\n",
       "      <td>'CK103'</td>\n",
       "      <td>'Prod4'</td>\n",
       "      <td>'desc4'</td>\n",
       "      <td>102</td>\n",
       "      <td>NaN</td>\n",
       "    </tr>\n",
       "  </tbody>\n",
       "</table>\n",
       "</div>"
      ],
      "text/plain": [
       "       SKU     name description  warehouse_num  Unnamed: 4\n",
       "0  'CK100'  'Prod1'     'desc1'            100         NaN\n",
       "1  'CK101'  'Prod2'     'desc2'            100         NaN\n",
       "2  'CK102'  'Prod3'     'desc3'            101         NaN\n",
       "3  'CK103'  'Prod4'     'desc4'            102         NaN"
      ]
     },
     "execution_count": 7,
     "metadata": {},
     "output_type": "execute_result"
    }
   ],
   "source": [
    "df = pd.read_csv('assignment.csv')\n",
    "df"
   ]
  },
  {
   "cell_type": "code",
   "execution_count": 8,
   "metadata": {},
   "outputs": [
    {
     "name": "stdout",
     "output_type": "stream",
     "text": [
      "SKU = 'CK100', name =0, description = 'desc1', warehouse_num = 100\n",
      "SKU = 'CK101', name =1, description = 'desc2', warehouse_num = 100\n",
      "SKU = 'CK102', name =2, description = 'desc3', warehouse_num = 101\n",
      "SKU = 'CK103', name =3, description = 'desc4', warehouse_num = 102\n"
     ]
    }
   ],
   "source": [
    "for index, row in df.iterrows():\n",
    "    print(f\"SKU = {row.SKU}, name ={row.name}, description = {row.description}, warehouse_num = {row.warehouse_num}\")"
   ]
  },
  {
   "cell_type": "code",
   "execution_count": 9,
   "metadata": {},
   "outputs": [
    {
     "name": "stdout",
     "output_type": "stream",
     "text": [
      "\n",
      "        INSERT INTO bd23.inventory (SKU, name, description, warehouse_num)     \n",
      "        VALUES ('CK100', 'Prod1', 'desc1', 100);\n",
      "        \n",
      "\n",
      "        INSERT INTO bd23.inventory (SKU, name, description, warehouse_num)     \n",
      "        VALUES ('CK101', 'Prod2', 'desc2', 100);\n",
      "        \n",
      "\n",
      "        INSERT INTO bd23.inventory (SKU, name, description, warehouse_num)     \n",
      "        VALUES ('CK102', 'Prod3', 'desc3', 101);\n",
      "        \n",
      "\n",
      "        INSERT INTO bd23.inventory (SKU, name, description, warehouse_num)     \n",
      "        VALUES ('CK103', 'Prod4', 'desc4', 102);\n",
      "        \n"
     ]
    }
   ],
   "source": [
    "for index, row in df.iterrows():\n",
    "    print(f\"\"\"\n",
    "        INSERT INTO bd23.inventory (SKU, name, description, warehouse_num)     \n",
    "        VALUES ({row[0]}, {row[1]}, {row[2]}, {row[3]});\n",
    "        \"\"\"\n",
    "       )\n",
    "    session.execute(f\"\"\"\n",
    "        INSERT INTO bd23.inventory (SKU, name, description, warehouse_num)     \n",
    "        VALUES ({row[0]}, {row[1]}, {row[2]}, {row[3]});\n",
    "        \"\"\"\n",
    "       )"
   ]
  },
  {
   "cell_type": "code",
   "execution_count": 10,
   "metadata": {},
   "outputs": [
    {
     "name": "stdout",
     "output_type": "stream",
     "text": [
      "SKU=CK101, name=Prod2, description=desc2, warehouse_num=100\n",
      "SKU=CK100, name=Prod1, description=desc1, warehouse_num=100\n",
      "SKU=CK103, name=Prod4, description=desc4, warehouse_num=102\n",
      "SKU=CK102, name=Prod3, description=desc3, warehouse_num=101\n"
     ]
    }
   ],
   "source": [
    "rows = session.execute(\"select (SKU,name,description,warehouse_num) from bd23.inventory\")\n",
    "for row in rows:\n",
    "    print(f\"SKU={row[0][0]}, name={row[0][1]}, description={row[0][2]}, warehouse_num={row[0][3]}\")"
   ]
  },
  {
   "cell_type": "markdown",
   "metadata": {},
   "source": [
    "###  Search for all products located at a given location (warehouse_num 123)"
   ]
  },
  {
   "cell_type": "code",
   "execution_count": 12,
   "metadata": {},
   "outputs": [
    {
     "name": "stdout",
     "output_type": "stream",
     "text": [
      "CK101, Prod2, desc2, 100\n",
      "CK100, Prod1, desc1, 100\n"
     ]
    }
   ],
   "source": [
    "rows = session.execute(\"select (SKU,name,description,warehouse_num) from bd23.inventory where warehouse_num=100 ALLOW FILTERING\")\n",
    "for row in rows:\n",
    "    print(f\"{row[0][0]}, {row[0][1]}, {row[0][2]}, {row[0][3]}\")"
   ]
  },
  {
   "cell_type": "markdown",
   "metadata": {},
   "source": [
    "### Analysis:\n",
    "\n",
    "1. If we observe the above query as per question i extracted the information of goods whose warehouse_num is 123.\n",
    "2. As mentioned in question to take two rows of warehouse location 123 i did.\n",
    "3. How ever , since it is point query allow filteirng is working how ever for range queries indexing will help.\n",
    "4. How ever, we can also create index on the warehouse_num and then no need to specify the allow filtering and we can extract the information"
   ]
  },
  {
   "cell_type": "code",
   "execution_count": 13,
   "metadata": {},
   "outputs": [
    {
     "data": {
      "text/plain": [
       "<cassandra.cluster.ResultSet at 0x7f86a8110370>"
      ]
     },
     "execution_count": 13,
     "metadata": {},
     "output_type": "execute_result"
    }
   ],
   "source": [
    "session.execute(\"\"\"\n",
    "        CREATE INDEX IF NOT EXISTS idx_warehouse_num ON bd23.inventory(warehouse_num);\n",
    "\"\"\")"
   ]
  },
  {
   "cell_type": "code",
   "execution_count": 14,
   "metadata": {},
   "outputs": [],
   "source": [
    "rows = session.execute(\"select (SKU,name,description,warehouse_num) from bd23.inventory where warehouse_num=123\")\n",
    "for row in rows:\n",
    "    print(f\"{row[0][0]}, {row[0][1]}, {row[0][2]}, {row[0][3]}\")"
   ]
  },
  {
   "cell_type": "markdown",
   "metadata": {},
   "source": [
    "### As i mentioned I used the index and extracted the records of products whose warehouse_num is 123."
   ]
  }
 ],
 "metadata": {
  "kernelspec": {
   "display_name": "base",
   "language": "python",
   "name": "python3"
  },
  "language_info": {
   "codemirror_mode": {
    "name": "ipython",
    "version": 3
   },
   "file_extension": ".py",
   "mimetype": "text/x-python",
   "name": "python",
   "nbconvert_exporter": "python",
   "pygments_lexer": "ipython3",
   "version": "3.10.12"
  },
  "orig_nbformat": 4
 },
 "nbformat": 4,
 "nbformat_minor": 2
}
